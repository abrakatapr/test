{
 "cells": [
  {
   "cell_type": "markdown",
   "id": "821c2cd5",
   "metadata": {},
   "source": [
    "# Задание 1\n",
    "вам выгружены два вида файлов\n",
    "-Все скачивания приложения (сырые данные) (нужное событие: install)\n",
    "-Фродовые скачивания приложений (ботовые пользователи)-отчет агрегированный (нужное событие: Total fraudulent attribution) \n",
    "\n",
    "1)Объедини каждый вид файлов, чтобы получить все данные\n",
    "2) по источникам (Media source) рассчитай  кол-во скачиваний всего и кол-во фродовых скачиваний, выведи процентное содержание форда по источникам\n",
    "3)каждому обычному инсталлу присвой цену 0,5$(наша прибыль), каждому фродовому  -0,2$(рекламодатель вычитает у нас)\n",
    "3) выведи Топ-5 источников по фродовым скачиваниям (отдельно с самым высоким процентом и самым низким процентом)\n",
    "4) выведи суммарно сколько денег мы заработали, сколько заплатили за фрод и разницу между ними(итоговый заработок=прибыль-вычет)\n",
    "5)выведи Топ-5 источников с самым высоким содержанием фрода, сколько суммарно мы заплатили за этот фрод и какой процент от всего фрода составляют эти 5 источников\n"
   ]
  },
  {
   "cell_type": "code",
   "execution_count": 1,
   "id": "5eba7e71",
   "metadata": {},
   "outputs": [],
   "source": [
    "import pandas as pd\n",
    "import numpy as np"
   ]
  },
  {
   "cell_type": "code",
   "execution_count": 2,
   "id": "77ac2308",
   "metadata": {},
   "outputs": [
    {
     "name": "stderr",
     "output_type": "stream",
     "text": [
      "C:\\Users\\abrak\\AppData\\Roaming\\Python\\Python37\\site-packages\\IPython\\core\\interactiveshell.py:3553: DtypeWarning: Columns (35) have mixed types.Specify dtype option on import or set low_memory=False.\n",
      "  exec(code_obj, self.user_global_ns, self.user_ns)\n"
     ]
    }
   ],
   "source": [
    "df1 = pd.read_csv('id1072084799_installs_2024-01-15_2024-01-31_Asia_Nicosia.csv')\n",
    "df2 = pd.read_csv('id1072084799_installs_2024-02-01_2024-02-05_Asia_Nicosia.csv')"
   ]
  },
  {
   "cell_type": "code",
   "execution_count": 3,
   "id": "0563a1ab",
   "metadata": {},
   "outputs": [],
   "source": [
    "df3 = pd.read_csv('protect360_report.csv', header=1)\n",
    "df4 = pd.read_csv('protect360_report-3.csv', header=1)"
   ]
  },
  {
   "cell_type": "markdown",
   "id": "5933636f",
   "metadata": {},
   "source": [
    "## 1)Объедини каждый вид файлов, чтобы получить все данные"
   ]
  },
  {
   "cell_type": "code",
   "execution_count": 4,
   "id": "4f6f068d",
   "metadata": {
    "scrolled": true
   },
   "outputs": [
    {
     "name": "stdout",
     "output_type": "stream",
     "text": [
      "<class 'pandas.core.frame.DataFrame'>\n",
      "RangeIndex: 55876 entries, 0 to 55875\n",
      "Data columns (total 59 columns):\n",
      " #   Column                       Non-Null Count  Dtype  \n",
      "---  ------                       --------------  -----  \n",
      " 0   Attributed Touch Type        55876 non-null  object \n",
      " 1   Attributed Touch Time        55876 non-null  object \n",
      " 2   Install Time                 55876 non-null  object \n",
      " 3   Event Time                   55876 non-null  object \n",
      " 4   Event Name                   55876 non-null  object \n",
      " 5   Event Value                  0 non-null      float64\n",
      " 6   Event Revenue                0 non-null      float64\n",
      " 7   Event Revenue Currency       0 non-null      float64\n",
      " 8   Event Revenue EUR            0 non-null      float64\n",
      " 9   Cost Model                   0 non-null      float64\n",
      " 10  Cost Value                   0 non-null      float64\n",
      " 11  Cost Currency                0 non-null      float64\n",
      " 12  Event Source                 55876 non-null  object \n",
      " 13  Partner                      55876 non-null  object \n",
      " 14  Media Source                 55876 non-null  object \n",
      " 15  Channel                      14591 non-null  float64\n",
      " 16  Campaign                     55876 non-null  object \n",
      " 17  Campaign ID                  5245 non-null   object \n",
      " 18  Adset                        41285 non-null  object \n",
      " 19  Adset ID                     55566 non-null  object \n",
      " 20  Ad                           41285 non-null  object \n",
      " 21  Ad ID                        41981 non-null  object \n",
      " 22  Ad Type                      42274 non-null  object \n",
      " 23  Site ID                      55876 non-null  object \n",
      " 24  Region                       55874 non-null  object \n",
      " 25  Country Code                 55876 non-null  object \n",
      " 26  State                        55876 non-null  object \n",
      " 27  City                         55876 non-null  object \n",
      " 28  Postal Code                  55876 non-null  object \n",
      " 29  DMA                          55876 non-null  object \n",
      " 30  IP                           55876 non-null  object \n",
      " 31  Operator                     0 non-null      float64\n",
      " 32  Carrier                      0 non-null      float64\n",
      " 33  Language                     55711 non-null  object \n",
      " 34  AppsFlyer ID                 55876 non-null  object \n",
      " 35  Customer User ID             55876 non-null  int64  \n",
      " 36  Android ID                   0 non-null      float64\n",
      " 37  Advertising ID               0 non-null      float64\n",
      " 38  IMEI                         0 non-null      float64\n",
      " 39  IDFA                         157 non-null    object \n",
      " 40  IDFV                         55876 non-null  object \n",
      " 41  Device Category              55876 non-null  object \n",
      " 42  Platform                     55876 non-null  object \n",
      " 43  OS Version                   55876 non-null  object \n",
      " 44  App Version                  55876 non-null  object \n",
      " 45  SDK Version                  55876 non-null  object \n",
      " 46  App ID                       55876 non-null  object \n",
      " 47  App Name                     55876 non-null  object \n",
      " 48  Is Retargeting               55876 non-null  bool   \n",
      " 49  Retargeting Conversion Type  0 non-null      float64\n",
      " 50  Is Primary Attribution       0 non-null      float64\n",
      " 51  Attribution Lookback         55876 non-null  object \n",
      " 52  Reengagement Window          0 non-null      float64\n",
      " 53  Match Type                   55876 non-null  object \n",
      " 54  User Agent                   55876 non-null  object \n",
      " 55  HTTP Referrer                0 non-null      float64\n",
      " 56  Original URL                 55876 non-null  object \n",
      " 57  Device Model                 55876 non-null  object \n",
      " 58  Store Product Page           0 non-null      float64\n",
      "dtypes: bool(1), float64(18), int64(1), object(39)\n",
      "memory usage: 24.8+ MB\n"
     ]
    }
   ],
   "source": [
    "df1.info()"
   ]
  },
  {
   "cell_type": "code",
   "execution_count": 5,
   "id": "2a510fe7",
   "metadata": {
    "scrolled": true
   },
   "outputs": [
    {
     "name": "stdout",
     "output_type": "stream",
     "text": [
      "<class 'pandas.core.frame.DataFrame'>\n",
      "RangeIndex: 56763 entries, 0 to 56762\n",
      "Data columns (total 59 columns):\n",
      " #   Column                       Non-Null Count  Dtype  \n",
      "---  ------                       --------------  -----  \n",
      " 0   Attributed Touch Type        56763 non-null  object \n",
      " 1   Attributed Touch Time        56763 non-null  object \n",
      " 2   Install Time                 56763 non-null  object \n",
      " 3   Event Time                   56763 non-null  object \n",
      " 4   Event Name                   56763 non-null  object \n",
      " 5   Event Value                  0 non-null      float64\n",
      " 6   Event Revenue                0 non-null      float64\n",
      " 7   Event Revenue Currency       0 non-null      float64\n",
      " 8   Event Revenue EUR            0 non-null      float64\n",
      " 9   Cost Model                   0 non-null      float64\n",
      " 10  Cost Value                   0 non-null      float64\n",
      " 11  Cost Currency                0 non-null      float64\n",
      " 12  Event Source                 56763 non-null  object \n",
      " 13  Partner                      56763 non-null  object \n",
      " 14  Media Source                 56763 non-null  object \n",
      " 15  Channel                      5457 non-null   float64\n",
      " 16  Campaign                     56763 non-null  object \n",
      " 17  Campaign ID                  2227 non-null   object \n",
      " 18  Adset                        51306 non-null  object \n",
      " 19  Adset ID                     56763 non-null  object \n",
      " 20  Ad                           51306 non-null  object \n",
      " 21  Ad ID                        51319 non-null  object \n",
      " 22  Ad Type                      51924 non-null  object \n",
      " 23  Site ID                      56763 non-null  object \n",
      " 24  Region                       56757 non-null  object \n",
      " 25  Country Code                 56763 non-null  object \n",
      " 26  State                        56763 non-null  object \n",
      " 27  City                         56763 non-null  object \n",
      " 28  Postal Code                  56763 non-null  object \n",
      " 29  DMA                          56763 non-null  object \n",
      " 30  IP                           56763 non-null  object \n",
      " 31  Operator                     0 non-null      float64\n",
      " 32  Carrier                      0 non-null      float64\n",
      " 33  Language                     56619 non-null  object \n",
      " 34  AppsFlyer ID                 56763 non-null  object \n",
      " 35  Customer User ID             56763 non-null  object \n",
      " 36  Android ID                   0 non-null      float64\n",
      " 37  Advertising ID               0 non-null      float64\n",
      " 38  IMEI                         0 non-null      float64\n",
      " 39  IDFA                         134 non-null    object \n",
      " 40  IDFV                         56763 non-null  object \n",
      " 41  Device Category              56763 non-null  object \n",
      " 42  Platform                     56763 non-null  object \n",
      " 43  OS Version                   56763 non-null  object \n",
      " 44  App Version                  56763 non-null  object \n",
      " 45  SDK Version                  56763 non-null  object \n",
      " 46  App ID                       56763 non-null  object \n",
      " 47  App Name                     56763 non-null  object \n",
      " 48  Is Retargeting               56763 non-null  bool   \n",
      " 49  Retargeting Conversion Type  0 non-null      float64\n",
      " 50  Is Primary Attribution       0 non-null      float64\n",
      " 51  Attribution Lookback         56763 non-null  object \n",
      " 52  Reengagement Window          0 non-null      float64\n",
      " 53  Match Type                   56763 non-null  object \n",
      " 54  User Agent                   56763 non-null  object \n",
      " 55  HTTP Referrer                0 non-null      float64\n",
      " 56  Original URL                 56763 non-null  object \n",
      " 57  Device Model                 56763 non-null  object \n",
      " 58  Store Product Page           0 non-null      float64\n",
      "dtypes: bool(1), float64(18), object(40)\n",
      "memory usage: 25.2+ MB\n"
     ]
    }
   ],
   "source": [
    "df2.info()"
   ]
  },
  {
   "cell_type": "code",
   "execution_count": 6,
   "id": "c94c3d6f",
   "metadata": {},
   "outputs": [
    {
     "data": {
      "text/plain": [
       "0       bigporrs_int\n",
       "1       bigporrs_int\n",
       "2       mobfly37_int\n",
       "3       farads0i_int\n",
       "4    patchmedi8h_int\n",
       "Name: Media Source, dtype: object"
      ]
     },
     "execution_count": 6,
     "metadata": {},
     "output_type": "execute_result"
    }
   ],
   "source": [
    "df2['Media Source'].head()"
   ]
  },
  {
   "cell_type": "code",
   "execution_count": 7,
   "id": "f01c04f8",
   "metadata": {
    "scrolled": true
   },
   "outputs": [
    {
     "name": "stdout",
     "output_type": "stream",
     "text": [
      "<class 'pandas.core.frame.DataFrame'>\n",
      "RangeIndex: 244 entries, 0 to 243\n",
      "Data columns (total 14 columns):\n",
      " #   Column                                 Non-Null Count  Dtype \n",
      "---  ------                                 --------------  ----- \n",
      " 0   Unnamed: 0                             244 non-null    object\n",
      " 1   Total\n",
      "                                 244 non-null    object\n",
      " 2   Total fraudulent attribution\n",
      "          244 non-null    object\n",
      " 3   Fraudulent attribution %               244 non-null    object\n",
      " 4   Fraud trend\n",
      "                           139 non-null    object\n",
      " 5   Installs                               244 non-null    object\n",
      " 6   Re-attributions                        244 non-null    int64 \n",
      " 7   Re-engagements                         244 non-null    int64 \n",
      " 8   Real-time blocks                       244 non-null    int64 \n",
      " 9   Post-attribution fraud                 244 non-null    object\n",
      " 10  Real-time blocks.1                     244 non-null    int64 \n",
      " 11  Post-attribution fraud.1               244 non-null    object\n",
      " 12  Blocked\n",
      "                               244 non-null    int64 \n",
      " 13  Blocked attribution\n",
      "                   244 non-null    int64 \n",
      "dtypes: int64(6), object(8)\n",
      "memory usage: 26.8+ KB\n"
     ]
    }
   ],
   "source": [
    "df3.info()"
   ]
  },
  {
   "cell_type": "code",
   "execution_count": 8,
   "id": "2930e0f1",
   "metadata": {
    "scrolled": true
   },
   "outputs": [
    {
     "name": "stdout",
     "output_type": "stream",
     "text": [
      "<class 'pandas.core.frame.DataFrame'>\n",
      "RangeIndex: 101 entries, 0 to 100\n",
      "Data columns (total 14 columns):\n",
      " #   Column                                 Non-Null Count  Dtype \n",
      "---  ------                                 --------------  ----- \n",
      " 0   Unnamed: 0                             101 non-null    object\n",
      " 1   Total\n",
      "                                 101 non-null    object\n",
      " 2   Total fraudulent attribution\n",
      "          101 non-null    object\n",
      " 3   Fraudulent attribution %               101 non-null    object\n",
      " 4   Fraud trend\n",
      "                           38 non-null     object\n",
      " 5   Installs                               101 non-null    object\n",
      " 6   Re-attributions                        101 non-null    int64 \n",
      " 7   Re-engagements                         101 non-null    int64 \n",
      " 8   Real-time blocks                       101 non-null    int64 \n",
      " 9   Post-attribution fraud                 101 non-null    object\n",
      " 10  Real-time blocks.1                     101 non-null    int64 \n",
      " 11  Post-attribution fraud.1               101 non-null    object\n",
      " 12  Blocked\n",
      "                               101 non-null    int64 \n",
      " 13  Blocked attribution\n",
      "                   101 non-null    int64 \n",
      "dtypes: int64(6), object(8)\n",
      "memory usage: 11.2+ KB\n"
     ]
    }
   ],
   "source": [
    "df4.info()"
   ]
  },
  {
   "cell_type": "code",
   "execution_count": 9,
   "id": "82d6844a",
   "metadata": {},
   "outputs": [],
   "source": [
    "df_inst = pd.concat([df1,df2], ignore_index = True)"
   ]
  },
  {
   "cell_type": "code",
   "execution_count": 10,
   "id": "48785aff",
   "metadata": {},
   "outputs": [],
   "source": [
    "#тут позже сгруппирую и просуммирую по источникам\n",
    "df_fraud = pd.concat([df3,df4], ignore_index = True)"
   ]
  },
  {
   "cell_type": "code",
   "execution_count": 11,
   "id": "c13dfc8f",
   "metadata": {
    "scrolled": true
   },
   "outputs": [
    {
     "name": "stdout",
     "output_type": "stream",
     "text": [
      "<class 'pandas.core.frame.DataFrame'>\n",
      "RangeIndex: 112639 entries, 0 to 112638\n",
      "Data columns (total 59 columns):\n",
      " #   Column                       Non-Null Count   Dtype  \n",
      "---  ------                       --------------   -----  \n",
      " 0   Attributed Touch Type        112639 non-null  object \n",
      " 1   Attributed Touch Time        112639 non-null  object \n",
      " 2   Install Time                 112639 non-null  object \n",
      " 3   Event Time                   112639 non-null  object \n",
      " 4   Event Name                   112639 non-null  object \n",
      " 5   Event Value                  0 non-null       float64\n",
      " 6   Event Revenue                0 non-null       float64\n",
      " 7   Event Revenue Currency       0 non-null       float64\n",
      " 8   Event Revenue EUR            0 non-null       float64\n",
      " 9   Cost Model                   0 non-null       float64\n",
      " 10  Cost Value                   0 non-null       float64\n",
      " 11  Cost Currency                0 non-null       float64\n",
      " 12  Event Source                 112639 non-null  object \n",
      " 13  Partner                      112639 non-null  object \n",
      " 14  Media Source                 112639 non-null  object \n",
      " 15  Channel                      20048 non-null   float64\n",
      " 16  Campaign                     112639 non-null  object \n",
      " 17  Campaign ID                  7472 non-null    object \n",
      " 18  Adset                        92591 non-null   object \n",
      " 19  Adset ID                     112329 non-null  object \n",
      " 20  Ad                           92591 non-null   object \n",
      " 21  Ad ID                        93300 non-null   object \n",
      " 22  Ad Type                      94198 non-null   object \n",
      " 23  Site ID                      112639 non-null  object \n",
      " 24  Region                       112631 non-null  object \n",
      " 25  Country Code                 112639 non-null  object \n",
      " 26  State                        112639 non-null  object \n",
      " 27  City                         112639 non-null  object \n",
      " 28  Postal Code                  112639 non-null  object \n",
      " 29  DMA                          112639 non-null  object \n",
      " 30  IP                           112639 non-null  object \n",
      " 31  Operator                     0 non-null       float64\n",
      " 32  Carrier                      0 non-null       float64\n",
      " 33  Language                     112330 non-null  object \n",
      " 34  AppsFlyer ID                 112639 non-null  object \n",
      " 35  Customer User ID             112639 non-null  object \n",
      " 36  Android ID                   0 non-null       float64\n",
      " 37  Advertising ID               0 non-null       float64\n",
      " 38  IMEI                         0 non-null       float64\n",
      " 39  IDFA                         291 non-null     object \n",
      " 40  IDFV                         112639 non-null  object \n",
      " 41  Device Category              112639 non-null  object \n",
      " 42  Platform                     112639 non-null  object \n",
      " 43  OS Version                   112639 non-null  object \n",
      " 44  App Version                  112639 non-null  object \n",
      " 45  SDK Version                  112639 non-null  object \n",
      " 46  App ID                       112639 non-null  object \n",
      " 47  App Name                     112639 non-null  object \n",
      " 48  Is Retargeting               112639 non-null  bool   \n",
      " 49  Retargeting Conversion Type  0 non-null       float64\n",
      " 50  Is Primary Attribution       0 non-null       float64\n",
      " 51  Attribution Lookback         112639 non-null  object \n",
      " 52  Reengagement Window          0 non-null       float64\n",
      " 53  Match Type                   112639 non-null  object \n",
      " 54  User Agent                   112639 non-null  object \n",
      " 55  HTTP Referrer                0 non-null       float64\n",
      " 56  Original URL                 112639 non-null  object \n",
      " 57  Device Model                 112639 non-null  object \n",
      " 58  Store Product Page           0 non-null       float64\n",
      "dtypes: bool(1), float64(18), object(40)\n",
      "memory usage: 50.0+ MB\n"
     ]
    }
   ],
   "source": [
    "df_inst.info()"
   ]
  },
  {
   "cell_type": "code",
   "execution_count": 12,
   "id": "dddf73dd",
   "metadata": {
    "scrolled": true
   },
   "outputs": [
    {
     "name": "stdout",
     "output_type": "stream",
     "text": [
      "<class 'pandas.core.frame.DataFrame'>\n",
      "RangeIndex: 345 entries, 0 to 344\n",
      "Data columns (total 14 columns):\n",
      " #   Column                                 Non-Null Count  Dtype \n",
      "---  ------                                 --------------  ----- \n",
      " 0   Unnamed: 0                             345 non-null    object\n",
      " 1   Total\n",
      "                                 345 non-null    object\n",
      " 2   Total fraudulent attribution\n",
      "          345 non-null    object\n",
      " 3   Fraudulent attribution %               345 non-null    object\n",
      " 4   Fraud trend\n",
      "                           177 non-null    object\n",
      " 5   Installs                               345 non-null    object\n",
      " 6   Re-attributions                        345 non-null    int64 \n",
      " 7   Re-engagements                         345 non-null    int64 \n",
      " 8   Real-time blocks                       345 non-null    int64 \n",
      " 9   Post-attribution fraud                 345 non-null    object\n",
      " 10  Real-time blocks.1                     345 non-null    int64 \n",
      " 11  Post-attribution fraud.1               345 non-null    object\n",
      " 12  Blocked\n",
      "                               345 non-null    int64 \n",
      " 13  Blocked attribution\n",
      "                   345 non-null    int64 \n",
      "dtypes: int64(6), object(8)\n",
      "memory usage: 37.9+ KB\n"
     ]
    }
   ],
   "source": [
    "df_fraud.info()"
   ]
  },
  {
   "cell_type": "markdown",
   "id": "4b9d6327",
   "metadata": {},
   "source": [
    "**Column 'Total fraudulent attribution' - object**"
   ]
  },
  {
   "cell_type": "code",
   "execution_count": 13,
   "id": "c8a71bf2",
   "metadata": {},
   "outputs": [
    {
     "data": {
      "text/plain": [
       "Index(['Unnamed: 0', 'Total\\n        ',\n",
       "       'Total fraudulent attribution\\n        ', 'Fraudulent attribution %',\n",
       "       'Fraud trend\\n        ', 'Installs', 'Re-attributions',\n",
       "       'Re-engagements', 'Real-time blocks', 'Post-attribution fraud',\n",
       "       'Real-time blocks.1', 'Post-attribution fraud.1', 'Blocked\\n        ',\n",
       "       'Blocked attribution\\n        '],\n",
       "      dtype='object')"
      ]
     },
     "execution_count": 13,
     "metadata": {},
     "output_type": "execute_result"
    }
   ],
   "source": [
    "df_fraud.columns"
   ]
  },
  {
   "cell_type": "code",
   "execution_count": 14,
   "id": "3a788a79",
   "metadata": {},
   "outputs": [
    {
     "data": {
      "text/plain": [
       "array(['8\\xa0209', '1\\xa0823', '766', '595', '22', '19', '15', '14', '13',\n",
       "       '12', '11', '10', '9', '8', '7', '6', '5', '4', '3', '2', '1', '0',\n",
       "       '7\\xa0707', '2\\xa0566', '2\\xa0166', '2\\xa0159', '959', '370',\n",
       "       '164', '17', '16'], dtype=object)"
      ]
     },
     "execution_count": 14,
     "metadata": {},
     "output_type": "execute_result"
    }
   ],
   "source": [
    "df_fraud['Total fraudulent attribution\\n        '].unique()"
   ]
  },
  {
   "cell_type": "code",
   "execution_count": 15,
   "id": "b6a57a65",
   "metadata": {},
   "outputs": [],
   "source": [
    "#избавляюсь от неразрывного пробела\n",
    "df_fraud['Total fraudulent attribution\\n        '] = (\n",
    "    df_fraud['Total fraudulent attribution\\n        ']\n",
    "    .apply(lambda x: str(x).replace(u'\\xa0', u''))\n",
    "    .astype({'Total fraudulent attribution\\n        ':'int64'})\n",
    ")"
   ]
  },
  {
   "cell_type": "markdown",
   "id": "b6fe1a59",
   "metadata": {},
   "source": [
    "## 2) по источникам (Media source) рассчитай  кол-во скачиваний всего и кол-во фродовых скачиваний, выведи процентное содержание фрода по источникам"
   ]
  },
  {
   "cell_type": "code",
   "execution_count": 16,
   "id": "a0dc463c",
   "metadata": {
    "scrolled": true
   },
   "outputs": [],
   "source": [
    "df_grouped_inst = (\n",
    "    df_inst.groupby(['Media Source'])\n",
    "    .count()['Install Time']\n",
    "#to_frame чтобы использовать источник как индекс\n",
    "    .to_frame('Installs').reset_index()\n",
    "    .set_index('Media Source'))"
   ]
  },
  {
   "cell_type": "code",
   "execution_count": 17,
   "id": "0e2c8de8",
   "metadata": {
    "scrolled": true
   },
   "outputs": [],
   "source": [
    "df_grouped_fraud = (\n",
    "    df_fraud[['Unnamed: 0','Total fraudulent attribution\\n        ']]\n",
    "    .rename(\n",
    "        columns={'Unnamed: 0':'Media Source','Total fraudulent attribution\\n        ':'Fraud Installs'}\n",
    "    )\n",
    ")\n",
    "df_grouped_fraud = (\n",
    "    df_grouped_fraud.groupby(['Media Source'])\n",
    "    .sum()['Fraud Installs']\n",
    "    .to_frame('Fraud Installs')\n",
    "    .reset_index()\n",
    "    .set_index('Media Source')\n",
    ")"
   ]
  },
  {
   "cell_type": "code",
   "execution_count": 18,
   "id": "642c95fd",
   "metadata": {},
   "outputs": [],
   "source": [
    "df = (\n",
    "    pd.merge(\n",
    "        df_grouped_fraud,\n",
    "        df_grouped_inst,\n",
    "        left_index=True,\n",
    "        right_index=True,\n",
    "        how='outer'\n",
    "    ).fillna(0)\n",
    ")\n",
    "#после мержа установки становятся флоат. исправлю это\n",
    "df['Installs'] = df['Installs'].astype('int64')"
   ]
  },
  {
   "cell_type": "code",
   "execution_count": 19,
   "id": "43ce9a75",
   "metadata": {},
   "outputs": [
    {
     "data": {
      "text/html": [
       "<div>\n",
       "<style scoped>\n",
       "    .dataframe tbody tr th:only-of-type {\n",
       "        vertical-align: middle;\n",
       "    }\n",
       "\n",
       "    .dataframe tbody tr th {\n",
       "        vertical-align: top;\n",
       "    }\n",
       "\n",
       "    .dataframe thead th {\n",
       "        text-align: right;\n",
       "    }\n",
       "</style>\n",
       "<table border=\"1\" class=\"dataframe\">\n",
       "  <thead>\n",
       "    <tr style=\"text-align: right;\">\n",
       "      <th></th>\n",
       "      <th>Fraud Installs</th>\n",
       "      <th>Installs</th>\n",
       "      <th>Fraud to All</th>\n",
       "    </tr>\n",
       "    <tr>\n",
       "      <th>Media Source</th>\n",
       "      <th></th>\n",
       "      <th></th>\n",
       "      <th></th>\n",
       "    </tr>\n",
       "  </thead>\n",
       "  <tbody>\n",
       "    <tr>\n",
       "      <th>0gukeyqfxNNm9_int</th>\n",
       "      <td>1</td>\n",
       "      <td>1</td>\n",
       "      <td>1.00</td>\n",
       "    </tr>\n",
       "    <tr>\n",
       "      <th>0znbLkUwcQs8u_int</th>\n",
       "      <td>9</td>\n",
       "      <td>9</td>\n",
       "      <td>1.00</td>\n",
       "    </tr>\n",
       "    <tr>\n",
       "      <th>10ToHckxiFhDB_int</th>\n",
       "      <td>9</td>\n",
       "      <td>9</td>\n",
       "      <td>1.00</td>\n",
       "    </tr>\n",
       "    <tr>\n",
       "      <th>1KZ7Ze2nYOsB5_int</th>\n",
       "      <td>0</td>\n",
       "      <td>0</td>\n",
       "      <td>NaN</td>\n",
       "    </tr>\n",
       "    <tr>\n",
       "      <th>1UG9EJZTsH6cz</th>\n",
       "      <td>0</td>\n",
       "      <td>11</td>\n",
       "      <td>0.00</td>\n",
       "    </tr>\n",
       "    <tr>\n",
       "      <th>...</th>\n",
       "      <td>...</td>\n",
       "      <td>...</td>\n",
       "      <td>...</td>\n",
       "    </tr>\n",
       "    <tr>\n",
       "      <th>z62vpmxqavc81</th>\n",
       "      <td>0</td>\n",
       "      <td>15</td>\n",
       "      <td>0.00</td>\n",
       "    </tr>\n",
       "    <tr>\n",
       "      <th>zT5JJPTdSV0ba_int</th>\n",
       "      <td>10</td>\n",
       "      <td>10</td>\n",
       "      <td>1.00</td>\n",
       "    </tr>\n",
       "    <tr>\n",
       "      <th>zZudaMGuGyhjG</th>\n",
       "      <td>0</td>\n",
       "      <td>11</td>\n",
       "      <td>0.00</td>\n",
       "    </tr>\n",
       "    <tr>\n",
       "      <th>zccGK0tKlo4ib_int</th>\n",
       "      <td>10</td>\n",
       "      <td>10</td>\n",
       "      <td>1.00</td>\n",
       "    </tr>\n",
       "    <tr>\n",
       "      <th>zhoEu7AaBeUiP_int</th>\n",
       "      <td>15</td>\n",
       "      <td>14</td>\n",
       "      <td>1.07</td>\n",
       "    </tr>\n",
       "  </tbody>\n",
       "</table>\n",
       "<p>276 rows × 3 columns</p>\n",
       "</div>"
      ],
      "text/plain": [
       "                   Fraud Installs  Installs  Fraud to All\n",
       "Media Source                                             \n",
       "0gukeyqfxNNm9_int               1         1          1.00\n",
       "0znbLkUwcQs8u_int               9         9          1.00\n",
       "10ToHckxiFhDB_int               9         9          1.00\n",
       "1KZ7Ze2nYOsB5_int               0         0           NaN\n",
       "1UG9EJZTsH6cz                   0        11          0.00\n",
       "...                           ...       ...           ...\n",
       "z62vpmxqavc81                   0        15          0.00\n",
       "zT5JJPTdSV0ba_int              10        10          1.00\n",
       "zZudaMGuGyhjG                   0        11          0.00\n",
       "zccGK0tKlo4ib_int              10        10          1.00\n",
       "zhoEu7AaBeUiP_int              15        14          1.07\n",
       "\n",
       "[276 rows x 3 columns]"
      ]
     },
     "execution_count": 19,
     "metadata": {},
     "output_type": "execute_result"
    }
   ],
   "source": [
    "df['Fraud to All'] = round(df['Fraud Installs'] / df['Installs'],2)\n",
    "df"
   ]
  },
  {
   "cell_type": "code",
   "execution_count": 20,
   "id": "1c8785b3",
   "metadata": {},
   "outputs": [],
   "source": [
    "df['Fraud to All'] = df['Fraud to All'].replace([np.inf, np.NaN], [1.00, 0])"
   ]
  },
  {
   "cell_type": "code",
   "execution_count": 21,
   "id": "b3eef969",
   "metadata": {},
   "outputs": [
    {
     "data": {
      "text/plain": [
       "3.0"
      ]
     },
     "execution_count": 21,
     "metadata": {},
     "output_type": "execute_result"
    }
   ],
   "source": [
    "df['Fraud to All'].max()"
   ]
  },
  {
   "cell_type": "markdown",
   "id": "a961d03c",
   "metadata": {},
   "source": [
    "Явно какая-то ошибка. Не может быть фродовых скачиваний больше, чем всех скачиваний. Так как нет понимания источника ошибки, то я уберу все строки с этими ошибками"
   ]
  },
  {
   "cell_type": "code",
   "execution_count": 22,
   "id": "bc09e865",
   "metadata": {},
   "outputs": [],
   "source": [
    "df = df.loc[df['Fraud Installs'] <= df['Installs']]"
   ]
  },
  {
   "cell_type": "code",
   "execution_count": 23,
   "id": "85ac9cca",
   "metadata": {},
   "outputs": [
    {
     "name": "stdout",
     "output_type": "stream",
     "text": [
      "Процентное содержание фрода по всем источникам = 25.41 %\n"
     ]
    }
   ],
   "source": [
    "print('Процентное содержание фрода по всем источникам =', round(df['Fraud Installs'].sum() / df['Installs'].sum() * 100,2),'%')"
   ]
  },
  {
   "cell_type": "code",
   "execution_count": 24,
   "id": "c55a2f7c",
   "metadata": {},
   "outputs": [
    {
     "data": {
      "text/plain": [
       "Media Source\n",
       "0gukeyqfxNNm9_int    100.0%\n",
       "0znbLkUwcQs8u_int    100.0%\n",
       "10ToHckxiFhDB_int    100.0%\n",
       "1KZ7Ze2nYOsB5_int      0.0%\n",
       "1UG9EJZTsH6cz          0.0%\n",
       "1V2Q8dkA11GHK        100.0%\n",
       "1fXtjxjHtY33R_int    100.0%\n",
       "1u4Bsn3ESv7D6_int    100.0%\n",
       "2QpStsR70VAF7_int      0.0%\n",
       "2zbLT07KZ8Bee_int      0.0%\n",
       "3HjwymMhViYlf_int    100.0%\n",
       "3KpkCAb5zjBy7_int      0.0%\n",
       "3cVjumLUKrXM2_int    100.0%\n",
       "4Jj3nLBN0ykcp_int    100.0%\n",
       "4MTHHMKgEOuVL_int      0.0%\n",
       "Name: Fraud to All, dtype: object"
      ]
     },
     "execution_count": 24,
     "metadata": {},
     "output_type": "execute_result"
    }
   ],
   "source": [
    "(df['Fraud to All'] *100).astype(str).head(15) +'%'"
   ]
  },
  {
   "cell_type": "markdown",
   "id": "99547d1f",
   "metadata": {},
   "source": [
    "## 3) Каждому обычному инсталлу присвой цену 0,5\\\\$(наша прибыль), каждому фродовому  -0,2\\\\$(рекламодатель вычитает у нас)"
   ]
  },
  {
   "cell_type": "code",
   "execution_count": 25,
   "id": "bab5c582",
   "metadata": {},
   "outputs": [],
   "source": [
    "pay_inst, pay_fraud = [0.5,-0.2]"
   ]
  },
  {
   "cell_type": "markdown",
   "id": "b8fa98a9",
   "metadata": {},
   "source": [
    "## 4) Выведи Топ-5 источников по фродовым скачиваниям (отдельно с самым высоким процентом и самым низким процентом)"
   ]
  },
  {
   "cell_type": "markdown",
   "id": "0adbda62",
   "metadata": {},
   "source": [
    "Это не ответ"
   ]
  },
  {
   "cell_type": "code",
   "execution_count": 26,
   "id": "56a62310",
   "metadata": {},
   "outputs": [
    {
     "data": {
      "text/html": [
       "<div>\n",
       "<style scoped>\n",
       "    .dataframe tbody tr th:only-of-type {\n",
       "        vertical-align: middle;\n",
       "    }\n",
       "\n",
       "    .dataframe tbody tr th {\n",
       "        vertical-align: top;\n",
       "    }\n",
       "\n",
       "    .dataframe thead th {\n",
       "        text-align: right;\n",
       "    }\n",
       "</style>\n",
       "<table border=\"1\" class=\"dataframe\">\n",
       "  <thead>\n",
       "    <tr style=\"text-align: right;\">\n",
       "      <th></th>\n",
       "      <th>Fraud Installs</th>\n",
       "      <th>Installs</th>\n",
       "      <th>Fraud to All</th>\n",
       "    </tr>\n",
       "    <tr>\n",
       "      <th>Media Source</th>\n",
       "      <th></th>\n",
       "      <th></th>\n",
       "      <th></th>\n",
       "    </tr>\n",
       "  </thead>\n",
       "  <tbody>\n",
       "    <tr>\n",
       "      <th>waledigzt_int</th>\n",
       "      <td>15916</td>\n",
       "      <td>18241</td>\n",
       "      <td>0.87</td>\n",
       "    </tr>\n",
       "    <tr>\n",
       "      <th>sunniay1_int</th>\n",
       "      <td>3989</td>\n",
       "      <td>17382</td>\n",
       "      <td>0.23</td>\n",
       "    </tr>\n",
       "    <tr>\n",
       "      <th>mobfly37_int</th>\n",
       "      <td>3332</td>\n",
       "      <td>22646</td>\n",
       "      <td>0.15</td>\n",
       "    </tr>\n",
       "    <tr>\n",
       "      <th>nuddlesisl_int</th>\n",
       "      <td>2754</td>\n",
       "      <td>22701</td>\n",
       "      <td>0.12</td>\n",
       "    </tr>\n",
       "    <tr>\n",
       "      <th>patchmedi8h_int</th>\n",
       "      <td>964</td>\n",
       "      <td>5273</td>\n",
       "      <td>0.18</td>\n",
       "    </tr>\n",
       "  </tbody>\n",
       "</table>\n",
       "</div>"
      ],
      "text/plain": [
       "                 Fraud Installs  Installs  Fraud to All\n",
       "Media Source                                           \n",
       "waledigzt_int             15916     18241          0.87\n",
       "sunniay1_int               3989     17382          0.23\n",
       "mobfly37_int               3332     22646          0.15\n",
       "nuddlesisl_int             2754     22701          0.12\n",
       "patchmedi8h_int             964      5273          0.18"
      ]
     },
     "execution_count": 26,
     "metadata": {},
     "output_type": "execute_result"
    }
   ],
   "source": [
    "df.sort_values(by = ['Fraud Installs'], ascending=False).head()"
   ]
  },
  {
   "cell_type": "code",
   "execution_count": 27,
   "id": "0a07d477",
   "metadata": {},
   "outputs": [
    {
     "data": {
      "text/html": [
       "<div>\n",
       "<style scoped>\n",
       "    .dataframe tbody tr th:only-of-type {\n",
       "        vertical-align: middle;\n",
       "    }\n",
       "\n",
       "    .dataframe tbody tr th {\n",
       "        vertical-align: top;\n",
       "    }\n",
       "\n",
       "    .dataframe thead th {\n",
       "        text-align: right;\n",
       "    }\n",
       "</style>\n",
       "<table border=\"1\" class=\"dataframe\">\n",
       "  <thead>\n",
       "    <tr style=\"text-align: right;\">\n",
       "      <th></th>\n",
       "      <th>Fraud Installs</th>\n",
       "      <th>Installs</th>\n",
       "      <th>Fraud to All</th>\n",
       "    </tr>\n",
       "    <tr>\n",
       "      <th>Media Source</th>\n",
       "      <th></th>\n",
       "      <th></th>\n",
       "      <th></th>\n",
       "    </tr>\n",
       "  </thead>\n",
       "  <tbody>\n",
       "    <tr>\n",
       "      <th>6VzbEqN7glHkx_int</th>\n",
       "      <td>16</td>\n",
       "      <td>16</td>\n",
       "      <td>1.0</td>\n",
       "    </tr>\n",
       "    <tr>\n",
       "      <th>PqsBQtPevObXy_int</th>\n",
       "      <td>15</td>\n",
       "      <td>15</td>\n",
       "      <td>1.0</td>\n",
       "    </tr>\n",
       "    <tr>\n",
       "      <th>dskBTk9P0PwG1_int</th>\n",
       "      <td>15</td>\n",
       "      <td>15</td>\n",
       "      <td>1.0</td>\n",
       "    </tr>\n",
       "    <tr>\n",
       "      <th>q68PNVMo74Cq5_int</th>\n",
       "      <td>14</td>\n",
       "      <td>14</td>\n",
       "      <td>1.0</td>\n",
       "    </tr>\n",
       "    <tr>\n",
       "      <th>1fXtjxjHtY33R_int</th>\n",
       "      <td>13</td>\n",
       "      <td>13</td>\n",
       "      <td>1.0</td>\n",
       "    </tr>\n",
       "  </tbody>\n",
       "</table>\n",
       "</div>"
      ],
      "text/plain": [
       "                   Fraud Installs  Installs  Fraud to All\n",
       "Media Source                                             \n",
       "6VzbEqN7glHkx_int              16        16           1.0\n",
       "PqsBQtPevObXy_int              15        15           1.0\n",
       "dskBTk9P0PwG1_int              15        15           1.0\n",
       "q68PNVMo74Cq5_int              14        14           1.0\n",
       "1fXtjxjHtY33R_int              13        13           1.0"
      ]
     },
     "execution_count": 27,
     "metadata": {},
     "output_type": "execute_result"
    }
   ],
   "source": [
    "df.sort_values(by = ['Fraud to All', 'Fraud Installs'], ascending=False).head()"
   ]
  },
  {
   "cell_type": "code",
   "execution_count": 28,
   "id": "5ae3e403",
   "metadata": {
    "scrolled": true
   },
   "outputs": [
    {
     "data": {
      "text/html": [
       "<div>\n",
       "<style scoped>\n",
       "    .dataframe tbody tr th:only-of-type {\n",
       "        vertical-align: middle;\n",
       "    }\n",
       "\n",
       "    .dataframe tbody tr th {\n",
       "        vertical-align: top;\n",
       "    }\n",
       "\n",
       "    .dataframe thead th {\n",
       "        text-align: right;\n",
       "    }\n",
       "</style>\n",
       "<table border=\"1\" class=\"dataframe\">\n",
       "  <thead>\n",
       "    <tr style=\"text-align: right;\">\n",
       "      <th></th>\n",
       "      <th>Fraud Installs</th>\n",
       "      <th>Installs</th>\n",
       "      <th>Fraud to All</th>\n",
       "    </tr>\n",
       "    <tr>\n",
       "      <th>Media Source</th>\n",
       "      <th></th>\n",
       "      <th></th>\n",
       "      <th></th>\n",
       "    </tr>\n",
       "  </thead>\n",
       "  <tbody>\n",
       "    <tr>\n",
       "      <th>6VzbEqN7glHkx_int</th>\n",
       "      <td>16</td>\n",
       "      <td>16</td>\n",
       "      <td>1.0</td>\n",
       "    </tr>\n",
       "    <tr>\n",
       "      <th>dskBTk9P0PwG1_int</th>\n",
       "      <td>15</td>\n",
       "      <td>15</td>\n",
       "      <td>1.0</td>\n",
       "    </tr>\n",
       "    <tr>\n",
       "      <th>PqsBQtPevObXy_int</th>\n",
       "      <td>15</td>\n",
       "      <td>15</td>\n",
       "      <td>1.0</td>\n",
       "    </tr>\n",
       "    <tr>\n",
       "      <th>q68PNVMo74Cq5_int</th>\n",
       "      <td>14</td>\n",
       "      <td>14</td>\n",
       "      <td>1.0</td>\n",
       "    </tr>\n",
       "    <tr>\n",
       "      <th>n4wiz7BuU6KXE_int</th>\n",
       "      <td>13</td>\n",
       "      <td>13</td>\n",
       "      <td>1.0</td>\n",
       "    </tr>\n",
       "    <tr>\n",
       "      <th>...</th>\n",
       "      <td>...</td>\n",
       "      <td>...</td>\n",
       "      <td>...</td>\n",
       "    </tr>\n",
       "    <tr>\n",
       "      <th>R5eysojP6BYYf_int</th>\n",
       "      <td>1</td>\n",
       "      <td>1</td>\n",
       "      <td>1.0</td>\n",
       "    </tr>\n",
       "    <tr>\n",
       "      <th>hq7LNNKyAtTeu</th>\n",
       "      <td>1</td>\n",
       "      <td>1</td>\n",
       "      <td>1.0</td>\n",
       "    </tr>\n",
       "    <tr>\n",
       "      <th>hAKjBd4flfO6Y_int</th>\n",
       "      <td>1</td>\n",
       "      <td>1</td>\n",
       "      <td>1.0</td>\n",
       "    </tr>\n",
       "    <tr>\n",
       "      <th>VSXAfo6RstuYf</th>\n",
       "      <td>1</td>\n",
       "      <td>1</td>\n",
       "      <td>1.0</td>\n",
       "    </tr>\n",
       "    <tr>\n",
       "      <th>0gukeyqfxNNm9_int</th>\n",
       "      <td>1</td>\n",
       "      <td>1</td>\n",
       "      <td>1.0</td>\n",
       "    </tr>\n",
       "  </tbody>\n",
       "</table>\n",
       "<p>118 rows × 3 columns</p>\n",
       "</div>"
      ],
      "text/plain": [
       "                   Fraud Installs  Installs  Fraud to All\n",
       "Media Source                                             \n",
       "6VzbEqN7glHkx_int              16        16           1.0\n",
       "dskBTk9P0PwG1_int              15        15           1.0\n",
       "PqsBQtPevObXy_int              15        15           1.0\n",
       "q68PNVMo74Cq5_int              14        14           1.0\n",
       "n4wiz7BuU6KXE_int              13        13           1.0\n",
       "...                           ...       ...           ...\n",
       "R5eysojP6BYYf_int               1         1           1.0\n",
       "hq7LNNKyAtTeu                   1         1           1.0\n",
       "hAKjBd4flfO6Y_int               1         1           1.0\n",
       "VSXAfo6RstuYf                   1         1           1.0\n",
       "0gukeyqfxNNm9_int               1         1           1.0\n",
       "\n",
       "[118 rows x 3 columns]"
      ]
     },
     "execution_count": 28,
     "metadata": {},
     "output_type": "execute_result"
    }
   ],
   "source": [
    "df.loc[df['Fraud to All'] == 1].sort_values(by = ['Fraud Installs'], ascending=False)"
   ]
  },
  {
   "cell_type": "code",
   "execution_count": 29,
   "id": "cd1b754b",
   "metadata": {},
   "outputs": [
    {
     "name": "stdout",
     "output_type": "stream",
     "text": [
      "118 источников, у которых только фродовые скачивания\n"
     ]
    }
   ],
   "source": [
    "print(len(df.loc[df['Fraud to All'] == 1]), 'источников, у которых только фродовые скачивания')"
   ]
  },
  {
   "cell_type": "markdown",
   "id": "f323820e",
   "metadata": {},
   "source": [
    "Избавлюсь от них, занеся в отдельный список"
   ]
  },
  {
   "cell_type": "code",
   "execution_count": 30,
   "id": "71ac4035",
   "metadata": {},
   "outputs": [],
   "source": [
    "ban_list = df.index.to_list()"
   ]
  },
  {
   "cell_type": "code",
   "execution_count": 31,
   "id": "150ee05d",
   "metadata": {},
   "outputs": [],
   "source": [
    "df = df.drop(df.loc[df['Fraud to All'] == 1].index)"
   ]
  },
  {
   "cell_type": "markdown",
   "id": "9724c82c",
   "metadata": {},
   "source": [
    "Также избавлюсь от незначительных источников, количество скачивания с которых меньше среднего\n",
    "\n",
    "(если сильно заморочиться и автоматизировать, то можно было придумать что-нибудь с весами-влияниями через какие-нибудь библиотеки как scipy, чтобы понять от каких избавляться, от каких нет, так как медиана у нас равно 12, а среднее ~800)"
   ]
  },
  {
   "cell_type": "code",
   "execution_count": 32,
   "id": "c0df2760",
   "metadata": {},
   "outputs": [],
   "source": [
    "new_df = df.loc[df['Installs'] >= df['Installs'].mean()]"
   ]
  },
  {
   "cell_type": "markdown",
   "id": "03ef81d5",
   "metadata": {},
   "source": [
    "### Ответ:"
   ]
  },
  {
   "cell_type": "code",
   "execution_count": 33,
   "id": "ab137459",
   "metadata": {},
   "outputs": [
    {
     "data": {
      "text/html": [
       "<div>\n",
       "<style scoped>\n",
       "    .dataframe tbody tr th:only-of-type {\n",
       "        vertical-align: middle;\n",
       "    }\n",
       "\n",
       "    .dataframe tbody tr th {\n",
       "        vertical-align: top;\n",
       "    }\n",
       "\n",
       "    .dataframe thead th {\n",
       "        text-align: right;\n",
       "    }\n",
       "</style>\n",
       "<table border=\"1\" class=\"dataframe\">\n",
       "  <thead>\n",
       "    <tr style=\"text-align: right;\">\n",
       "      <th></th>\n",
       "      <th>Fraud Installs</th>\n",
       "      <th>Installs</th>\n",
       "      <th>Fraud to All</th>\n",
       "    </tr>\n",
       "    <tr>\n",
       "      <th>Media Source</th>\n",
       "      <th></th>\n",
       "      <th></th>\n",
       "      <th></th>\n",
       "    </tr>\n",
       "  </thead>\n",
       "  <tbody>\n",
       "    <tr>\n",
       "      <th>waledigzt_int</th>\n",
       "      <td>15916</td>\n",
       "      <td>18241</td>\n",
       "      <td>0.87</td>\n",
       "    </tr>\n",
       "    <tr>\n",
       "      <th>sunniay1_int</th>\n",
       "      <td>3989</td>\n",
       "      <td>17382</td>\n",
       "      <td>0.23</td>\n",
       "    </tr>\n",
       "    <tr>\n",
       "      <th>xinofiert6_int</th>\n",
       "      <td>373</td>\n",
       "      <td>1829</td>\n",
       "      <td>0.20</td>\n",
       "    </tr>\n",
       "    <tr>\n",
       "      <th>patchmedi8h_int</th>\n",
       "      <td>964</td>\n",
       "      <td>5273</td>\n",
       "      <td>0.18</td>\n",
       "    </tr>\n",
       "    <tr>\n",
       "      <th>mobfly37_int</th>\n",
       "      <td>3332</td>\n",
       "      <td>22646</td>\n",
       "      <td>0.15</td>\n",
       "    </tr>\n",
       "  </tbody>\n",
       "</table>\n",
       "</div>"
      ],
      "text/plain": [
       "                 Fraud Installs  Installs  Fraud to All\n",
       "Media Source                                           \n",
       "waledigzt_int             15916     18241          0.87\n",
       "sunniay1_int               3989     17382          0.23\n",
       "xinofiert6_int              373      1829          0.20\n",
       "patchmedi8h_int             964      5273          0.18\n",
       "mobfly37_int               3332     22646          0.15"
      ]
     },
     "execution_count": 33,
     "metadata": {},
     "output_type": "execute_result"
    }
   ],
   "source": [
    "new_df.sort_values(by = ['Fraud to All', 'Fraud Installs'], ascending=False).head()"
   ]
  },
  {
   "cell_type": "code",
   "execution_count": 34,
   "id": "15ee5c75",
   "metadata": {},
   "outputs": [
    {
     "data": {
      "text/plain": [
       "Media Source\n",
       "waledigzt_int      87.0%\n",
       "sunniay1_int       23.0%\n",
       "xinofiert6_int     20.0%\n",
       "patchmedi8h_int    18.0%\n",
       "mobfly37_int       15.0%\n",
       "Name: Fraud to All, dtype: object"
      ]
     },
     "execution_count": 34,
     "metadata": {},
     "output_type": "execute_result"
    }
   ],
   "source": [
    "(new_df['Fraud to All'].sort_values(ascending=False).head()*100).astype(str) +'%'"
   ]
  },
  {
   "cell_type": "code",
   "execution_count": 35,
   "id": "1b420700",
   "metadata": {},
   "outputs": [
    {
     "data": {
      "text/plain": [
       "Media Source\n",
       "bigporrs_int       0.0%\n",
       "bingoga2_int       0.0%\n",
       "enaaa4p_int        0.0%\n",
       "farads0i_int       0.0%\n",
       "futhermobpk_int    0.0%\n",
       "Name: Fraud to All, dtype: object"
      ]
     },
     "execution_count": 35,
     "metadata": {},
     "output_type": "execute_result"
    }
   ],
   "source": [
    "(new_df['Fraud to All'].sort_values(ascending=True).head()*100).astype(str) +'%'"
   ]
  },
  {
   "cell_type": "markdown",
   "id": "8d677b2a",
   "metadata": {},
   "source": [
    "## 5) выведи суммарно сколько денег мы заработали, сколько заплатили за фрод и разницу между ними(итоговый заработок=прибыль-вычет)"
   ]
  },
  {
   "cell_type": "code",
   "execution_count": 36,
   "id": "9277fca5",
   "metadata": {},
   "outputs": [
    {
     "name": "stdout",
     "output_type": "stream",
     "text": [
      "Суммарно мы заработали 55776.5$\n",
      "За фрод мы заплатили 5529.4$\n",
      "А итоговый наш заработок = 50247.1$\n"
     ]
    }
   ],
   "source": [
    "print(f\"\"\"Суммарно мы заработали {round(df['Installs'].sum() * pay_inst,2)}$\n",
    "За фрод мы заплатили {-round(df['Fraud Installs'].sum() * pay_fraud, 2)}$\n",
    "А итоговый наш заработок = {round(df['Installs'].sum() * pay_inst + df['Fraud Installs'].sum() * pay_fraud, 2)}$\"\"\")"
   ]
  },
  {
   "cell_type": "markdown",
   "id": "c69018c1",
   "metadata": {},
   "source": [
    "## 6) выведи Топ-5 источников с самым высоким содержанием фрода, сколько суммарно мы заплатили за этот фрод и какой процент от всего фрода составляют эти 5 источников"
   ]
  },
  {
   "cell_type": "code",
   "execution_count": 37,
   "id": "634e1f3b",
   "metadata": {},
   "outputs": [
    {
     "data": {
      "text/html": [
       "<div>\n",
       "<style scoped>\n",
       "    .dataframe tbody tr th:only-of-type {\n",
       "        vertical-align: middle;\n",
       "    }\n",
       "\n",
       "    .dataframe tbody tr th {\n",
       "        vertical-align: top;\n",
       "    }\n",
       "\n",
       "    .dataframe thead th {\n",
       "        text-align: right;\n",
       "    }\n",
       "</style>\n",
       "<table border=\"1\" class=\"dataframe\">\n",
       "  <thead>\n",
       "    <tr style=\"text-align: right;\">\n",
       "      <th></th>\n",
       "      <th>Fraud Installs</th>\n",
       "      <th>Installs</th>\n",
       "      <th>Fraud to All</th>\n",
       "    </tr>\n",
       "    <tr>\n",
       "      <th>Media Source</th>\n",
       "      <th></th>\n",
       "      <th></th>\n",
       "      <th></th>\n",
       "    </tr>\n",
       "  </thead>\n",
       "  <tbody>\n",
       "    <tr>\n",
       "      <th>waledigzt_int</th>\n",
       "      <td>15916</td>\n",
       "      <td>18241</td>\n",
       "      <td>0.87</td>\n",
       "    </tr>\n",
       "    <tr>\n",
       "      <th>sunniay1_int</th>\n",
       "      <td>3989</td>\n",
       "      <td>17382</td>\n",
       "      <td>0.23</td>\n",
       "    </tr>\n",
       "    <tr>\n",
       "      <th>mobfly37_int</th>\n",
       "      <td>3332</td>\n",
       "      <td>22646</td>\n",
       "      <td>0.15</td>\n",
       "    </tr>\n",
       "    <tr>\n",
       "      <th>nuddlesisl_int</th>\n",
       "      <td>2754</td>\n",
       "      <td>22701</td>\n",
       "      <td>0.12</td>\n",
       "    </tr>\n",
       "    <tr>\n",
       "      <th>patchmedi8h_int</th>\n",
       "      <td>964</td>\n",
       "      <td>5273</td>\n",
       "      <td>0.18</td>\n",
       "    </tr>\n",
       "  </tbody>\n",
       "</table>\n",
       "</div>"
      ],
      "text/plain": [
       "                 Fraud Installs  Installs  Fraud to All\n",
       "Media Source                                           \n",
       "waledigzt_int             15916     18241          0.87\n",
       "sunniay1_int               3989     17382          0.23\n",
       "mobfly37_int               3332     22646          0.15\n",
       "nuddlesisl_int             2754     22701          0.12\n",
       "patchmedi8h_int             964      5273          0.18"
      ]
     },
     "execution_count": 37,
     "metadata": {},
     "output_type": "execute_result"
    }
   ],
   "source": [
    "new_df_top_fraud = new_df.sort_values(by = ['Fraud Installs'], ascending=False).head()\n",
    "new_df_top_fraud"
   ]
  },
  {
   "cell_type": "code",
   "execution_count": 38,
   "id": "8eb68d16",
   "metadata": {},
   "outputs": [
    {
     "name": "stdout",
     "output_type": "stream",
     "text": [
      "Суммарно мы заплатили за этот фрод 5391.0$\n",
      "И он составляет 97.0% от всего фрода\n"
     ]
    }
   ],
   "source": [
    "print(f\"\"\"Суммарно мы заплатили за этот фрод {-round(new_df_top_fraud['Fraud Installs'].sum() * pay_fraud, 2)}$\n",
    "И он составляет {round(new_df_top_fraud['Fraud Installs'].sum() / df['Fraud Installs'].sum(), 2) * 100}% от всего фрода\"\"\")"
   ]
  },
  {
   "cell_type": "code",
   "execution_count": null,
   "id": "a11ee8ee",
   "metadata": {},
   "outputs": [],
   "source": []
  }
 ],
 "metadata": {
  "kernelspec": {
   "display_name": "Python 3 (ipykernel)",
   "language": "python",
   "name": "python3"
  },
  "language_info": {
   "codemirror_mode": {
    "name": "ipython",
    "version": 3
   },
   "file_extension": ".py",
   "mimetype": "text/x-python",
   "name": "python",
   "nbconvert_exporter": "python",
   "pygments_lexer": "ipython3",
   "version": "3.7.8"
  }
 },
 "nbformat": 4,
 "nbformat_minor": 5
}
